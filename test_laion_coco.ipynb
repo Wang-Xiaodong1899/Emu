{
 "cells": [
  {
   "cell_type": "code",
   "execution_count": 37,
   "metadata": {},
   "outputs": [],
   "source": [
    "import webdataset as wds\n",
    "import matplotlib.pyplot as plt"
   ]
  },
  {
   "cell_type": "code",
   "execution_count": 134,
   "metadata": {},
   "outputs": [],
   "source": [
    "path = '/f_data/G/dataset/laion-coco/laion-coco/{00000..00001}.tar'\n",
    "dataset = wds.WebDataset(path).shuffle(1000).decode(\"pil\").to_tuple(\"jpg\", \"txt\")"
   ]
  },
  {
   "cell_type": "code",
   "execution_count": 126,
   "metadata": {},
   "outputs": [],
   "source": [
    "from torchvision import transforms\n",
    "from torchvision.transforms.functional import InterpolationMode\n",
    "transform = transforms.Compose(\n",
    "            [\n",
    "                transforms.RandomResizedCrop(224, scale=(0.9, 1.0), interpolation=InterpolationMode.BICUBIC),\n",
    "                transforms.ToTensor(),\n",
    "                transforms.Normalize((0.48145466, 0.4578275, 0.40821073), (0.26862954, 0.26130258, 0.27577711))\n",
    "            ]\n",
    "        )\n",
    "def preprocess(sample):\n",
    "    image, caption = sample\n",
    "    image = transform(image)\n",
    "    return image, caption"
   ]
  },
  {
   "cell_type": "code",
   "execution_count": 135,
   "metadata": {},
   "outputs": [],
   "source": [
    "dataset = dataset.map(preprocess)"
   ]
  },
  {
   "cell_type": "code",
   "execution_count": 136,
   "metadata": {},
   "outputs": [],
   "source": [
    "for image, caption in dataset:\n",
    "    break"
   ]
  },
  {
   "cell_type": "code",
   "execution_count": 137,
   "metadata": {},
   "outputs": [
    {
     "data": {
      "text/plain": [
       "'A man in ski gear and goggles on top of a mountain.'"
      ]
     },
     "execution_count": 137,
     "metadata": {},
     "output_type": "execute_result"
    }
   ],
   "source": [
    "caption"
   ]
  },
  {
   "cell_type": "code",
   "execution_count": 118,
   "metadata": {},
   "outputs": [
    {
     "data": {
      "text/plain": [
       "torch.Size([3, 224, 224])"
      ]
     },
     "execution_count": 118,
     "metadata": {},
     "output_type": "execute_result"
    }
   ],
   "source": [
    "image.size()"
   ]
  },
  {
   "cell_type": "code",
   "execution_count": 138,
   "metadata": {},
   "outputs": [],
   "source": [
    "from torch.utils.data import Dataset, SequentialSampler, DataLoader\n",
    "data = DataLoader(dataset, batch_size=64, num_workers=8)"
   ]
  },
  {
   "cell_type": "code",
   "execution_count": 123,
   "metadata": {},
   "outputs": [
    {
     "name": "stdout",
     "output_type": "stream",
     "text": [
      "('An advertisement for essential oils.', 'The adidas shoes are designed with black and white floral print.', 'the album cover for only hope.', \"An Indigenous Peoples'history of the United States\", 'THE RED DEAD REDEMPTION II. XBOX One', 'Two purses with skulls and leopard print on them.', 'The pillow is made from natural wool.', 'The white truck is parked on the side of the road.', 'A towel rack with two crabs on it.', 'the cover to call duty modern warfare.', 'The earrings are made from gold and clear glass.', \"The cover for J. Pachelel's Canon and Gigue\", 'The backlit keyboard is illuminated in black.', 'An awning over the outside patio table.', 'The poster for an audition shows two people kissing.', 'An older man wearing glasses and a suit.', 'Wild dogs in the wilderness with their heads down.', 'an image of a brass valve', 'People standing around a table with flowers.', 'Two penguins are jumping in the air.', 'The charge book is shown with people in business attire.', 'The American flag and a city skyline.', 'The Lincoln motorcycle is parked in front of other cars.', 'A beer being poured into a glass mug.', 'The cover of a nobody eats parsley.', 'An oval ruby and multicolored sapphire ring.', 'The book is on display for sale.', 'Soy protein food machinery.', 'The soccer players are celebrating their goal with each other.', 'The text Windows 10 tip how to capture and print Windows 10 screen.', 'The hand is holding an anti - fingerprint glass screen protector.', 'A wooden bridge crosses over the trail in the woods.', 'The new tab in Powerpoint is highlighted.', 'A hydraulic gear pump with a yellow wire.', 'A bedroom with a bed, chair, couch and two lamps.', 'The roof and clock tower on an old building.', 'Two women in lingers and one man with money.', \"an image of the words opening: Son of Air Bailey, and we'll always be in the glow\", 'an embroideryed flower and some small flowers', 'A woman standing outside with her hand in the pocket.', 'The school app is showing an image of students.', 'I love napps button with a pink heart.', 'a table with four stools and some pictures', 'Three chefs are holding up some food.', 'The cover of Holzwerken magazine.', 'Two people standing next to each other at a bowling event.', 'A tent with a bed and table in the middle.', 'The words infinitive and verbs are arranged into circles.', 'The challenge of final reccking is over.', 'The cover for an article on trafficking in persons report.', 'Two people sitting on the bed looking at their laptop.', 'The white polo shirt with a red logo.', \"This is an artist's rendering for the cottage style home.\", 'A woman wearing leopard print shoes on brick steps.', 'An airplane is sitting on the runway ready to take off.', \"The boy's t - shirt has an image of a skull with sunglasses and a skate board.\", 'A table with two Christmas trees and a lamp.', 'Pink crystal and diamond earrings.', 'The image shows an outdoor decking with oil.', 'Two lions are laying under a tree in the wild.', 'A blue and white cake with a crown on top.', 'Family playing with toys in living room on tiled floor.', 'A man laying on top of an exercise table.', 'An area rug with blue and white stripes.')\n"
     ]
    }
   ],
   "source": [
    "for images, captions in data:\n",
    "    print(captions)\n",
    "    break"
   ]
  },
  {
   "cell_type": "code",
   "execution_count": 139,
   "metadata": {},
   "outputs": [
    {
     "name": "stdout",
     "output_type": "stream",
     "text": [
      "('The white truck is parked on the side of the road.', 'a skf logo on a white background', 'The man is smoking and wearing an army uniform.', 'The hand is holding a bouquet of pink roses.', 'A man laying on top of an exercise table.', 'Metallique wax in a tin on a white background.', 'Three different colored rings with diamonds.', 'A bedroom with a bed, chair, couch and two lamps.', 'The cover of Holzwerken magazine.', 'A white dining table with black chairs.', 'The hand is holding an anti - fingerprint glass screen protector.', 'An awning over the outside patio table.', 'THE RED DEAD REDEMPTION II. XBOX One', 'The new tab in Powerpoint is highlighted.', 'Three green parrots perched on branches in the sun pendant.', 'An older man wearing glasses and a suit.', 'a table with four stools and some pictures', 'the cover to call duty modern warfare.', 'The backlit keyboard is illuminated in black.', 'An iPad with the text How To Lock an iPad and iPhone screen, so kids stay within the iPad.', 'The front entrance to a hotel with red flowers.', 'A spider - man iron on patches are shown.', 'Two pieces of yarn with pink and green fringes.', 'The white polo shirt with a red logo.', 'Two plans for the living room and kitchen.', 'The roof and clock tower on an old building.', 'Six hexagons with the words Supply Chain.', 'Family playing with toys in living room on tiled floor.', 'The view from above of mountains and lake.', 'Soy protein food machinery.', 'Four tires are stacked up on the ground.', 'Two men are looking at each other with guns.', 'The cropped pants are white and have zebra print.', 'The logo for a look come in.', 'the deleting mode in a node.', 'An older man giving a speech at a podium.', 'a pink and gold plastic baby basket with some beads', 'The adidas shoes are designed with black and white floral print.', 'The patio area is surrounded by palm trees.', \"A woman's shoes with black and white stripes.\", 'The characters from frozen, are standing in front of a fireplace.', 'A man in blue shirt picking up weeds.', 'A sign on the wall that says, NYC Interior Outpost 2 John Brook Lodge.', 'Three chefs are holding up some food.', 'The angels are all smiles in their dugout.', 'The Gucci bag is made from canvas and has a red, green, and white stripe.', 'an image of a brass valve', 'A blue and white cake with a crown on top.', 'Two pages with different types of job descriptions.', 'The form for an event is displayed.', 'Two people standing next to each other at a bowling event.', 'The zero sign is displayed on top of polka dotty paper.', 'A man in ski gear and goggles on top of a mountain.', 'A white couch sitting in front of a wall.', 'an image of the man holding up his scarf', 'Stress relax, tranquil sleep tablets.', 'A can of spaghetti with sauce and tomatoes.', 'Three packages of wipes with a hand holding one.', 'The package is filled with sweet corn.', 'The soccer players are celebrating their goal with each other.', 'How to choose the right cut of beef for your recipe.', 'A woman holding a kitten in her hands.', 'A woman wearing leopard print shoes on brick steps.', 'The wetsuit and shampoo are both in one package.')\n"
     ]
    }
   ],
   "source": [
    "for images, captions in data:\n",
    "    print(captions)\n",
    "    break"
   ]
  },
  {
   "cell_type": "code",
   "execution_count": 140,
   "metadata": {},
   "outputs": [
    {
     "data": {
      "text/plain": [
       "torch.Size([64, 3, 224, 224])"
      ]
     },
     "execution_count": 140,
     "metadata": {},
     "output_type": "execute_result"
    }
   ],
   "source": [
    "images.size()"
   ]
  }
 ],
 "metadata": {
  "kernelspec": {
   "display_name": "emu",
   "language": "python",
   "name": "emu"
  },
  "language_info": {
   "codemirror_mode": {
    "name": "ipython",
    "version": 3
   },
   "file_extension": ".py",
   "mimetype": "text/x-python",
   "name": "python",
   "nbconvert_exporter": "python",
   "pygments_lexer": "ipython3",
   "version": "3.10.12"
  }
 },
 "nbformat": 4,
 "nbformat_minor": 4
}
