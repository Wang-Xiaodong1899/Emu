{
 "cells": [
  {
   "cell_type": "code",
   "execution_count": 1,
   "metadata": {},
   "outputs": [
    {
     "name": "stderr",
     "output_type": "stream",
     "text": [
      "/opt/conda/envs/emu/lib/python3.10/site-packages/tqdm/auto.py:21: TqdmWarning: IProgress not found. Please update jupyter and ipywidgets. See https://ipywidgets.readthedocs.io/en/stable/user_install.html\n",
      "  from .autonotebook import tqdm as notebook_tqdm\n"
     ]
    }
   ],
   "source": [
    "from PIL import Image\n",
    "from models.pipeline import EmuGenerationPipeline"
   ]
  },
  {
   "cell_type": "code",
   "execution_count": 2,
   "metadata": {},
   "outputs": [
    {
     "data": {
      "text/plain": [
       "'/workspace/emu-ckpt/Emu/pretrain'"
      ]
     },
     "execution_count": 2,
     "metadata": {},
     "output_type": "execute_result"
    }
   ],
   "source": [
    "class Args():\n",
    "    def __init__(self):\n",
    "        self.instruct = False\n",
    "        self.ckpt_path = '/workspace/emu-ckpt/Emu/pretrain'\n",
    "args = Args()\n",
    "args.ckpt_path"
   ]
  },
  {
   "cell_type": "code",
   "execution_count": null,
   "metadata": {},
   "outputs": [
    {
     "name": "stderr",
     "output_type": "stream",
     "text": [
      "`text_config_dict` is provided which will be used to initialize `CLIPTextConfig`. The value `text_config[\"id2label\"]` will be overriden.\n",
      "`text_config_dict` is provided which will be used to initialize `CLIPTextConfig`. The value `text_config[\"bos_token_id\"]` will be overriden.\n",
      "`text_config_dict` is provided which will be used to initialize `CLIPTextConfig`. The value `text_config[\"eos_token_id\"]` will be overriden.\n"
     ]
    }
   ],
   "source": [
    "pipeline = EmuGenerationPipeline.from_pretrained(\n",
    "        path=args.ckpt_path,\n",
    "        args=args,\n",
    "    )\n",
    "pipeline = pipeline.float16().cuda()\n",
    "\n",
    "# image blend case\n",
    "# image_1 = Image.open(\"examples/sunflower.png\")\n",
    "# image_2 = Image.open(\"examples/oil_sunflower.jpg\")\n",
    "image_1 = Image.open(\"examples/cat.jpg\")\n",
    "image_2 = Image.open(\"examples/tiger.jpg\")\n",
    "image, safety = pipeline(\n",
    "    [image_1, image_2],\n",
    "    height=512,\n",
    "    width=512,\n",
    "    guidance_scale=7.5,\n",
    ")\n",
    "\n",
    "if safety is None or not safety:\n",
    "    image.save(\"image_blend_result.jpg\")\n",
    "else:\n",
    "    print(\"ImageBlend Generated Image Has Safety Concern!!!\")\n",
    "\n",
    "# text-to-image case\n",
    "text = \"An image of a dog wearing a pair of glasses.\"\n",
    "image, safety = pipeline(\n",
    "    [text],\n",
    "    height=512,\n",
    "    width=512,\n",
    "    guidance_scale=7.5,\n",
    ")\n",
    "\n",
    "if safety is None or not safety:\n",
    "    image.save(\"text2image_result.jpg\")\n",
    "else:\n",
    "    print(\"T2I Generated Image Has Safety Concern!!!\")\n",
    "\n",
    "# in-context generation\n",
    "image_1 = Image.open(\"examples/dog.png\")\n",
    "image_2 = Image.open(\"examples/sunflower.png\")\n",
    "\n",
    "image, safety = pipeline(\n",
    "    [\n",
    "        \"This is the first image: \",\n",
    "        image_1,\n",
    "        \"This is the second image: \",\n",
    "        image_2,\n",
    "        \"The animal in the first image surrounded with the plant in the second image: \",\n",
    "    ],\n",
    "    height=512,\n",
    "    width=512,\n",
    "    guidance_scale=10.,\n",
    ")\n",
    "\n",
    "if safety is None or not safety:\n",
    "    image.save(\"incontext_result.jpg\")\n",
    "else:\n",
    "    print(\"In-context Generated Image Has Safety Concern!!!\")"
   ]
  }
 ],
 "metadata": {
  "kernelspec": {
   "display_name": "emu",
   "language": "python",
   "name": "emu"
  },
  "language_info": {
   "codemirror_mode": {
    "name": "ipython",
    "version": 3
   },
   "file_extension": ".py",
   "mimetype": "text/x-python",
   "name": "python",
   "nbconvert_exporter": "python",
   "pygments_lexer": "ipython3",
   "version": "3.10.12"
  }
 },
 "nbformat": 4,
 "nbformat_minor": 4
}
